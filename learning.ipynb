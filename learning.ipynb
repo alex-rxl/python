{
  "nbformat": 4,
  "nbformat_minor": 0,
  "metadata": {
    "colab": {
      "name": "learning",
      "version": "0.3.2",
      "provenance": [],
      "collapsed_sections": [],
      "include_colab_link": true
    },
    "kernelspec": {
      "name": "python3",
      "display_name": "Python 3"
    }
  },
  "cells": [
    {
      "cell_type": "markdown",
      "metadata": {
        "id": "view-in-github",
        "colab_type": "text"
      },
      "source": [
        "<a href=\"https://colab.research.google.com/github/alex-rxl/python/blob/master/learning.ipynb\" target=\"_parent\"><img src=\"https://colab.research.google.com/assets/colab-badge.svg\" alt=\"Open In Colab\"/></a>"
      ]
    },
    {
      "cell_type": "markdown",
      "metadata": {
        "id": "_feGFXb2ifNU",
        "colab_type": "text"
      },
      "source": [
        "**python learning note book for same code** ![替代文字](https://camo.githubusercontent.com/52feade06f2fecbf006889a904d221e6a730c194/68747470733a2f2f636f6c61622e72657365617263682e676f6f676c652e636f6d2f6173736574732f636f6c61622d62616467652e737667)"
      ]
    },
    {
      "cell_type": "code",
      "metadata": {
        "id": "yWZRDUoaU2Ys",
        "colab_type": "code",
        "outputId": "691ef7b7-8426-4461-90a0-8a8e2ff69b1d",
        "colab": {
          "base_uri": "https://localhost:8080/",
          "height": 34
        }
      },
      "source": [
        "import random\n",
        "player_list =  ['【狂血战士】','【森林箭手】','【光明骑士】','【独行剑客】','【格斗大师】','【枪弹专家】']\n",
        "players = random.sample (player_list,3)\n",
        "print(players)\n",
        "#打印出来也是一个列表"
      ],
      "execution_count": 0,
      "outputs": [
        {
          "output_type": "stream",
          "text": [
            "['【森林箭手】', '【格斗大师】', '【独行剑客】']\n"
          ],
          "name": "stdout"
        }
      ]
    },
    {
      "cell_type": "code",
      "metadata": {
        "id": "I9JHAQJ1jgdB",
        "colab_type": "code",
        "outputId": "4c790bde-23d2-415f-8a56-563f2d297bdb",
        "colab": {
          "base_uri": "https://localhost:8080/",
          "height": 89
        },
        "cellView": "both"
      },
      "source": [
        "#@title\n",
        "# 随机生成玩家角色和随机的生命攻击数值\n",
        "# 由于生成双方角色属性的代码类似，所以在试验期，只考虑我方角色。\n",
        "import random\n",
        "# ①将需要用到的固定变量一起放到代码开头，便于使用和管理。\n",
        "player_list =  ['【狂血战士】','【森林箭手】','【光明骑士】','【独行剑客】','【格斗大师】','【枪弹专家】']\n",
        "players = random.sample(player_list,3)  # 从列表里随机选取三个元素\n",
        "player_life = {}  # 建立空字典，存放我方角色的血量。\n",
        "player_attack = {}  # 建立空字典，存放我方角色的攻击。\n",
        "    \n",
        "# ②生成角色的属性\n",
        "life = random.randint(100,180) # 从100-180随机生成整数，赋值给变量life\n",
        "attack = random.randint(30,50) # 从30-50随机生成整数，赋值给变量attack\n",
        "player_life[players[0]] = life # 给空字典添加键值对，角色列表players的第0个元素为键，变量life为值\n",
        "player_attack[players[0]] = attack # 给空字典添加键值对，角色列表players的第0个元素为键，变量attack为值\n",
        "\n",
        "# ③展示我方的角色信息\n",
        "print('----------------- 角色信息 -----------------')\n",
        "print('你的人物：')\n",
        "print('%s  血量：%d  攻击：%d' \n",
        "%(players[0],player_life[players[0]],player_attack[players[0]]))\n",
        "print('--------------------------------------------')"
      ],
      "execution_count": 2,
      "outputs": [
        {
          "output_type": "stream",
          "text": [
            "----------------- 角色信息 -----------------\n",
            "你的人物：\n",
            "【光明骑士】  血量：127  攻击：38\n",
            "--------------------------------------------\n"
          ],
          "name": "stdout"
        }
      ]
    }
  ]
}